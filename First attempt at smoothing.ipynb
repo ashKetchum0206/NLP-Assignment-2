{
 "cells": [
  {
   "cell_type": "code",
   "execution_count": 165,
   "id": "9b2db754",
   "metadata": {},
   "outputs": [
    {
     "name": "stderr",
     "output_type": "stream",
     "text": [
      "[nltk_data] Downloading package punkt to /home/rachit0206/nltk_data...\n",
      "[nltk_data]   Package punkt is already up-to-date!\n",
      "[nltk_data] Downloading package stopwords to\n",
      "[nltk_data]     /home/rachit0206/nltk_data...\n",
      "[nltk_data]   Package stopwords is already up-to-date!\n",
      "[nltk_data] Downloading package reuters to\n",
      "[nltk_data]     /home/rachit0206/nltk_data...\n",
      "[nltk_data]   Package reuters is already up-to-date!\n"
     ]
    }
   ],
   "source": [
    "# imports\n",
    "import string\n",
    "import random\n",
    "import nltk\n",
    "nltk.download('punkt')\n",
    "nltk.download('stopwords')\n",
    "nltk.download('reuters')\n",
    "from nltk.corpus import reuters\n",
    "from nltk import FreqDist\n",
    "from nltk.corpus import stopwords\n",
    "# input the reuters sentences\n",
    "sents = reuters.sents()\n",
    "\n",
    "# write the removal characters such as : Stopwords and punctuation\n",
    "stop_words = set(stopwords.words('english'))\n",
    "string.punctuation = string.punctuation +'\"'+'\"'+'-'+'''+'''+'—' + '.-'\n",
    "string.punctuation\n",
    "\n",
    "word_to_int = {}\n",
    "count = 0"
   ]
  },
  {
   "cell_type": "code",
   "execution_count": 166,
   "id": "ad5ac29c",
   "metadata": {},
   "outputs": [],
   "source": [
    "from nltk.corpus import stopwords\n",
    "import random\n",
    "from sklearn.model_selection import train_test_split\n",
    "random.seed(69)"
   ]
  },
  {
   "cell_type": "code",
   "execution_count": 167,
   "id": "b81a8a3d",
   "metadata": {},
   "outputs": [],
   "source": [
    "stops = set(stopwords.words('/home/rachit0206/nltk_data/corpora/stopwords/english'))"
   ]
  },
  {
   "cell_type": "code",
   "execution_count": 168,
   "id": "fcdde7bd",
   "metadata": {},
   "outputs": [],
   "source": [
    "proc_sents = []\n",
    "for sentence in sents:\n",
    "    new_sent = ['<s>']\n",
    "    for token in sentence:\n",
    "        if(token not in string.punctuation and token not in stops):\n",
    "            new_sent.append(token.lower())\n",
    "    \n",
    "    new_sent.append('</s>')\n",
    "    proc_sents.append(new_sent)"
   ]
  },
  {
   "cell_type": "code",
   "execution_count": 169,
   "id": "5c3aec20",
   "metadata": {},
   "outputs": [],
   "source": [
    "proc_sents_train, proc_sents_valid = train_test_split(proc_sents, test_size=0.2)"
   ]
  },
  {
   "cell_type": "code",
   "execution_count": 170,
   "id": "8183c7e0",
   "metadata": {},
   "outputs": [],
   "source": [
    "word_to_int = {}\n",
    "count = 0\n",
    "for sentence in proc_sents_train:\n",
    "    for token in sentence:\n",
    "        if(token not in word_to_int): \n",
    "            word_to_int[token] = count\n",
    "            count += 1"
   ]
  },
  {
   "cell_type": "code",
   "execution_count": 171,
   "id": "1d2f53ce",
   "metadata": {},
   "outputs": [],
   "source": [
    "unigrams = {}\n",
    "threshold = 10"
   ]
  },
  {
   "cell_type": "code",
   "execution_count": 172,
   "id": "99c25672",
   "metadata": {},
   "outputs": [],
   "source": [
    "for sentence in proc_sents_train:\n",
    "    for token in sentence:\n",
    "        if(token not in unigrams): unigrams[token] = 0\n",
    "        unigrams[token] += 1"
   ]
  },
  {
   "cell_type": "code",
   "execution_count": 173,
   "id": "9d314dd8",
   "metadata": {},
   "outputs": [],
   "source": [
    "vocab_count = len(unigrams)"
   ]
  },
  {
   "cell_type": "code",
   "execution_count": 174,
   "id": "ab370988",
   "metadata": {},
   "outputs": [],
   "source": [
    "bigrams = {}"
   ]
  },
  {
   "cell_type": "code",
   "execution_count": 175,
   "id": "42c53778",
   "metadata": {},
   "outputs": [],
   "source": [
    "for sentence in proc_sents_train:\n",
    "    for i in range(1 , len(sentence)):\n",
    "        bigram = (sentence[i-1], sentence[i])\n",
    "        if(bigram not in bigrams): bigrams[bigram] = 0\n",
    "        bigrams[bigram] += 1"
   ]
  },
  {
   "cell_type": "code",
   "execution_count": 176,
   "id": "3b0401bf",
   "metadata": {},
   "outputs": [],
   "source": [
    "token_count = 0\n",
    "for key in unigrams.keys():\n",
    "    token_count += unigrams[key]    "
   ]
  },
  {
   "cell_type": "code",
   "execution_count": 177,
   "id": "1e02e817",
   "metadata": {},
   "outputs": [],
   "source": [
    "effective_token_count = token_count + vocab_count\n",
    "for unigram in unigrams.keys():\n",
    "    unigrams[unigram] += 1"
   ]
  },
  {
   "cell_type": "code",
   "execution_count": 178,
   "id": "0901318b",
   "metadata": {},
   "outputs": [],
   "source": [
    "import numpy as np"
   ]
  },
  {
   "cell_type": "code",
   "execution_count": 193,
   "id": "123e2f50",
   "metadata": {},
   "outputs": [],
   "source": [
    "def get_PP(k):\n",
    "    \n",
    "    total_log_perp = 0\n",
    "    total_PP = 0\n",
    "    count_sent = 0\n",
    "    vocab_count_local = vocab_count\n",
    "\n",
    "    for sentence in proc_sents_valid:\n",
    "\n",
    "        count_sent += 1\n",
    "\n",
    "        if(len(sentence) < 4): continue\n",
    "\n",
    "        else:\n",
    "            log_perp = 0\n",
    "            n = len(sentence)\n",
    "\n",
    "            for i in range(1 , n):\n",
    "\n",
    "                n_gram = (sentence[i-1], sentence[i])\n",
    "\n",
    "                if(sentence[i-1] not in unigrams):\n",
    "                    unigrams[sentence[i-1]] = 1\n",
    "                    vocab_count_local+=1\n",
    "\n",
    "                if(sentence[i] not in unigrams):\n",
    "                    unigrams[sentence[i]] = 1\n",
    "                    vocab_count_local+=1\n",
    "\n",
    "                #Calculating the cross entropy\n",
    "                if(n_gram not in bigrams): \n",
    "                    log_perp += np.log2 ( (unigrams[sentence[i-1]] + k*vocab_count_local) / k)\n",
    "\n",
    "                else:\n",
    "                    log_perp += np.log2((unigrams[sentence[i-1]] + k*vocab_count_local) / (bigrams[n_gram] + k))\n",
    "\n",
    "            total_log_perp = log_perp * (1/n)\n",
    "\n",
    "            #calculating the perplexity for the sentence. This is done to avoid the numerical instabilities associated with floating point operations\n",
    "            PP = 2 ** total_log_perp\n",
    "            total_PP  += PP\n",
    "\n",
    "\n",
    "    avg_PP = total_PP / count_sent\n",
    "    return avg_PP"
   ]
  },
  {
   "cell_type": "code",
   "execution_count": 208,
   "id": "e4af2d95",
   "metadata": {},
   "outputs": [],
   "source": [
    "from matplotlib import pyplot as plt\n",
    "x = np.linspace(0.001 , 1, 100 , endpoint = True)\n",
    "y = get_PP(x)\n"
   ]
  },
  {
   "cell_type": "code",
   "execution_count": 209,
   "id": "aecf4ddd",
   "metadata": {},
   "outputs": [
    {
     "data": {
      "text/plain": [
       "[<matplotlib.lines.Line2D at 0x7fe738e91b10>]"
      ]
     },
     "execution_count": 209,
     "metadata": {},
     "output_type": "execute_result"
    },
    {
     "data": {
      "image/png": "[encoded data removed]",
      "text/plain": [
       "<Figure size 640x480 with 1 Axes>"
      ]
     },
     "metadata": {},
     "output_type": "display_data"
    }
   ],
   "source": [
    "plt.plot(x, y , color = 'red')"
   ]
  },
  {
   "cell_type": "code",
   "execution_count": 210,
   "id": "a136fc29",
   "metadata": {},
   "outputs": [
    {
     "data": {
      "text/plain": [
       "1"
      ]
     },
     "execution_count": 210,
     "metadata": {},
     "output_type": "execute_result"
    }
   ],
   "source": [
    "idx = np.argmin(y)\n",
    "idx"
   ]
  },
  {
   "cell_type": "code",
   "execution_count": 211,
   "id": "2b924d8a",
   "metadata": {},
   "outputs": [
    {
     "data": {
      "text/plain": [
       "1171.4369246250424"
      ]
     },
     "execution_count": 211,
     "metadata": {},
     "output_type": "execute_result"
    }
   ],
   "source": [
    "get_PP(x[1])"
   ]
  },
  {
   "cell_type": "code",
   "execution_count": null,
   "id": "bc4f6f39",
   "metadata": {},
   "outputs": [],
   "source": []
  }
 ],
 "metadata": {
  "kernelspec": {
   "display_name": "Python 3 (ipykernel)",
   "language": "python",
   "name": "python3"
  },
  "language_info": {
   "codemirror_mode": {
    "name": "ipython",
    "version": 3
   },
   "file_extension": ".py",
   "mimetype": "text/x-python",
   "name": "python",
   "nbconvert_exporter": "python",
   "pygments_lexer": "ipython3",
   "version": "3.10.12"
  }
 },
 "nbformat": 4,
 "nbformat_minor": 5
}
