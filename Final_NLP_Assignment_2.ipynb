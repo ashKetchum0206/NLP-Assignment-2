{
 "cells": [
  {
   "cell_type": "code",
   "execution_count": 2,
   "id": "864023a0",
   "metadata": {},
   "outputs": [
    {
     "name": "stderr",
     "output_type": "stream",
     "text": [
      "[nltk_data] Downloading package punkt to\n",
      "[nltk_data]     C:\\Users\\dhruv\\AppData\\Roaming\\nltk_data...\n",
      "[nltk_data]   Package punkt is already up-to-date!\n"
     ]
    }
   ],
   "source": [
    "import pandas as pd\n",
    "import numpy as np\n",
    "import copy\n",
    "import string\n",
    "import nltk\n",
    "from nltk.tokenize import sent_tokenize\n",
    "from nltk.tokenize import word_tokenize\n",
    "nltk.download('punkt')\n",
    "from scipy.optimize import minimize\n",
    "import matplotlib.pyplot as plt"
   ]
  },
  {
   "cell_type": "markdown",
   "id": "e05634a3",
   "metadata": {},
   "source": [
    "# Preprocessing"
   ]
  },
  {
   "cell_type": "code",
   "execution_count": 16,
   "id": "6abc71e4",
   "metadata": {},
   "outputs": [],
   "source": [
    "from nltk.corpus import stopwords"
   ]
  },
  {
   "cell_type": "code",
   "execution_count": 17,
   "id": "9ac251d1",
   "metadata": {},
   "outputs": [
    {
     "name": "stderr",
     "output_type": "stream",
     "text": [
      "[nltk_data] Downloading package stopwords to\n",
      "[nltk_data]     C:\\Users\\dhruv\\AppData\\Roaming\\nltk_data...\n",
      "[nltk_data]   Package stopwords is already up-to-date!\n"
     ]
    },
    {
     "data": {
      "text/plain": [
       "True"
      ]
     },
     "execution_count": 17,
     "metadata": {},
     "output_type": "execute_result"
    }
   ],
   "source": [
    "nltk.download('stopwords')"
   ]
  },
  {
   "cell_type": "code",
   "execution_count": 19,
   "id": "864e7123",
   "metadata": {},
   "outputs": [],
   "source": [
    "stops = set(stopwords.words('english'))"
   ]
  },
  {
   "cell_type": "code",
   "execution_count": 3,
   "id": "d9b3a47f",
   "metadata": {},
   "outputs": [],
   "source": [
    "train_df = pd.read_csv(\"\\\\Users\\\\dhruv\\\\OneDrive\\\\Desktop\\\\IITGN\\\\NLP\\\\Assignment 2\\\\train_dataset.csv\")\n",
    "test_df = pd.read_csv(\"\\\\Users\\\\dhruv\\\\OneDrive\\\\Desktop\\\\IITGN\\\\NLP\\\\Assignment 2\\\\test_dataset.csv\")"
   ]
  },
  {
   "cell_type": "code",
   "execution_count": 4,
   "id": "e90ab6c5",
   "metadata": {},
   "outputs": [
    {
     "data": {
      "text/html": [
       "<div>\n",
       "<style scoped>\n",
       "    .dataframe tbody tr th:only-of-type {\n",
       "        vertical-align: middle;\n",
       "    }\n",
       "\n",
       "    .dataframe tbody tr th {\n",
       "        vertical-align: top;\n",
       "    }\n",
       "\n",
       "    .dataframe thead th {\n",
       "        text-align: right;\n",
       "    }\n",
       "</style>\n",
       "<table border=\"1\" class=\"dataframe\">\n",
       "  <thead>\n",
       "    <tr style=\"text-align: right;\">\n",
       "      <th></th>\n",
       "      <th>Unnamed: 0</th>\n",
       "      <th>Post_ID</th>\n",
       "      <th>Comment_ID</th>\n",
       "      <th>Comment</th>\n",
       "      <th>Majority_Sentiment</th>\n",
       "    </tr>\n",
       "  </thead>\n",
       "  <tbody>\n",
       "    <tr>\n",
       "      <th>0</th>\n",
       "      <td>63830</td>\n",
       "      <td>b1ifpf</td>\n",
       "      <td>eimdlm6</td>\n",
       "      <td>How about you let people believe what they wan...</td>\n",
       "      <td>Negative</td>\n",
       "    </tr>\n",
       "    <tr>\n",
       "      <th>1</th>\n",
       "      <td>74546</td>\n",
       "      <td>r883cg</td>\n",
       "      <td>hn6kho0</td>\n",
       "      <td>Seems to me that you are the naive one.  You h...</td>\n",
       "      <td>Negative</td>\n",
       "    </tr>\n",
       "    <tr>\n",
       "      <th>2</th>\n",
       "      <td>43112</td>\n",
       "      <td>zot7hf</td>\n",
       "      <td>j0ovzqb</td>\n",
       "      <td>I don't really care what fence you stand or ho...</td>\n",
       "      <td>Negative</td>\n",
       "    </tr>\n",
       "    <tr>\n",
       "      <th>3</th>\n",
       "      <td>156883</td>\n",
       "      <td>m7uruh</td>\n",
       "      <td>grkmbba</td>\n",
       "      <td>As if me shutting up matters. That mob gonna j...</td>\n",
       "      <td>Negative</td>\n",
       "    </tr>\n",
       "    <tr>\n",
       "      <th>4</th>\n",
       "      <td>25574</td>\n",
       "      <td>guknl9</td>\n",
       "      <td>fssfncv</td>\n",
       "      <td>Didn’t Sun Yat-Sen establish the nation of Chi...</td>\n",
       "      <td>Neutral</td>\n",
       "    </tr>\n",
       "    <tr>\n",
       "      <th>...</th>\n",
       "      <td>...</td>\n",
       "      <td>...</td>\n",
       "      <td>...</td>\n",
       "      <td>...</td>\n",
       "      <td>...</td>\n",
       "    </tr>\n",
       "    <tr>\n",
       "      <th>104487</th>\n",
       "      <td>75796</td>\n",
       "      <td>rszekc</td>\n",
       "      <td>hqpxj88</td>\n",
       "      <td>[Yeesh](https://i.imgur.com/MzTuPz0.gif). Aigh...</td>\n",
       "      <td>Neutral</td>\n",
       "    </tr>\n",
       "    <tr>\n",
       "      <th>104488</th>\n",
       "      <td>63051</td>\n",
       "      <td>b1ifpf</td>\n",
       "      <td>hrt4sj1</td>\n",
       "      <td>Don't think they have them.</td>\n",
       "      <td>Neutral</td>\n",
       "    </tr>\n",
       "    <tr>\n",
       "      <th>104489</th>\n",
       "      <td>129544</td>\n",
       "      <td>ow7knn</td>\n",
       "      <td>h7f8g1m</td>\n",
       "      <td>Girls made us so proud and heartiest congratul...</td>\n",
       "      <td>Positive</td>\n",
       "    </tr>\n",
       "    <tr>\n",
       "      <th>104490</th>\n",
       "      <td>70964</td>\n",
       "      <td>n6ct9d</td>\n",
       "      <td>gxhnitt</td>\n",
       "      <td>I wonder the same. I guess Evil_Filbert goes b...</td>\n",
       "      <td>Neutral</td>\n",
       "    </tr>\n",
       "    <tr>\n",
       "      <th>104491</th>\n",
       "      <td>60573</td>\n",
       "      <td>b1ifpf</td>\n",
       "      <td>gomcb4l</td>\n",
       "      <td>Law Suit should be more encouraged in Pakistan...</td>\n",
       "      <td>Positive</td>\n",
       "    </tr>\n",
       "  </tbody>\n",
       "</table>\n",
       "<p>104492 rows × 5 columns</p>\n",
       "</div>"
      ],
      "text/plain": [
       "        Unnamed: 0 Post_ID Comment_ID  \\\n",
       "0            63830  b1ifpf    eimdlm6   \n",
       "1            74546  r883cg    hn6kho0   \n",
       "2            43112  zot7hf    j0ovzqb   \n",
       "3           156883  m7uruh    grkmbba   \n",
       "4            25574  guknl9    fssfncv   \n",
       "...            ...     ...        ...   \n",
       "104487       75796  rszekc    hqpxj88   \n",
       "104488       63051  b1ifpf    hrt4sj1   \n",
       "104489      129544  ow7knn    h7f8g1m   \n",
       "104490       70964  n6ct9d    gxhnitt   \n",
       "104491       60573  b1ifpf    gomcb4l   \n",
       "\n",
       "                                                  Comment Majority_Sentiment  \n",
       "0       How about you let people believe what they wan...           Negative  \n",
       "1       Seems to me that you are the naive one.  You h...           Negative  \n",
       "2       I don't really care what fence you stand or ho...           Negative  \n",
       "3       As if me shutting up matters. That mob gonna j...           Negative  \n",
       "4       Didn’t Sun Yat-Sen establish the nation of Chi...            Neutral  \n",
       "...                                                   ...                ...  \n",
       "104487  [Yeesh](https://i.imgur.com/MzTuPz0.gif). Aigh...            Neutral  \n",
       "104488                        Don't think they have them.            Neutral  \n",
       "104489  Girls made us so proud and heartiest congratul...           Positive  \n",
       "104490  I wonder the same. I guess Evil_Filbert goes b...            Neutral  \n",
       "104491  Law Suit should be more encouraged in Pakistan...           Positive  \n",
       "\n",
       "[104492 rows x 5 columns]"
      ]
     },
     "execution_count": 4,
     "metadata": {},
     "output_type": "execute_result"
    }
   ],
   "source": [
    "train_df"
   ]
  },
  {
   "cell_type": "code",
   "execution_count": 5,
   "id": "314a0dc3",
   "metadata": {},
   "outputs": [
    {
     "data": {
      "text/html": [
       "<div>\n",
       "<style scoped>\n",
       "    .dataframe tbody tr th:only-of-type {\n",
       "        vertical-align: middle;\n",
       "    }\n",
       "\n",
       "    .dataframe tbody tr th {\n",
       "        vertical-align: top;\n",
       "    }\n",
       "\n",
       "    .dataframe thead th {\n",
       "        text-align: right;\n",
       "    }\n",
       "</style>\n",
       "<table border=\"1\" class=\"dataframe\">\n",
       "  <thead>\n",
       "    <tr style=\"text-align: right;\">\n",
       "      <th></th>\n",
       "      <th>Unnamed: 0</th>\n",
       "      <th>Post_ID</th>\n",
       "      <th>Comment_ID</th>\n",
       "      <th>Comment</th>\n",
       "      <th>Majority_Sentiment</th>\n",
       "    </tr>\n",
       "  </thead>\n",
       "  <tbody>\n",
       "    <tr>\n",
       "      <th>0</th>\n",
       "      <td>4792</td>\n",
       "      <td>p5mjxp</td>\n",
       "      <td>h98tl62</td>\n",
       "      <td>why do we pretend that members of the mujahiid...</td>\n",
       "      <td>Negative</td>\n",
       "    </tr>\n",
       "    <tr>\n",
       "      <th>1</th>\n",
       "      <td>157273</td>\n",
       "      <td>mdrrjf</td>\n",
       "      <td>gsb4bzn</td>\n",
       "      <td>Now the russian government cannot pretend anym...</td>\n",
       "      <td>Negative</td>\n",
       "    </tr>\n",
       "    <tr>\n",
       "      <th>2</th>\n",
       "      <td>42030</td>\n",
       "      <td>yah7io</td>\n",
       "      <td>itf9fov</td>\n",
       "      <td>Whether he liked it or not, he's not gonna sud...</td>\n",
       "      <td>Negative</td>\n",
       "    </tr>\n",
       "    <tr>\n",
       "      <th>3</th>\n",
       "      <td>23039</td>\n",
       "      <td>fywci6</td>\n",
       "      <td>fn46j5o</td>\n",
       "      <td>lol, Chinese are the most racist. Just look at...</td>\n",
       "      <td>Negative</td>\n",
       "    </tr>\n",
       "    <tr>\n",
       "      <th>4</th>\n",
       "      <td>83438</td>\n",
       "      <td>6f10op</td>\n",
       "      <td>dietjm9</td>\n",
       "      <td>They could, and are already doing it, but the ...</td>\n",
       "      <td>Negative</td>\n",
       "    </tr>\n",
       "    <tr>\n",
       "      <th>...</th>\n",
       "      <td>...</td>\n",
       "      <td>...</td>\n",
       "      <td>...</td>\n",
       "      <td>...</td>\n",
       "      <td>...</td>\n",
       "    </tr>\n",
       "    <tr>\n",
       "      <th>26119</th>\n",
       "      <td>119314</td>\n",
       "      <td>n5abcb</td>\n",
       "      <td>gx2cr2z</td>\n",
       "      <td>There are people who believe in some religion ...</td>\n",
       "      <td>Neutral</td>\n",
       "    </tr>\n",
       "    <tr>\n",
       "      <th>26120</th>\n",
       "      <td>148451</td>\n",
       "      <td>jjh0mv</td>\n",
       "      <td>gad16qg</td>\n",
       "      <td>Awesome!! Hat did you draw this on?</td>\n",
       "      <td>Positive</td>\n",
       "    </tr>\n",
       "    <tr>\n",
       "      <th>26121</th>\n",
       "      <td>81328</td>\n",
       "      <td>38heyu</td>\n",
       "      <td>crvbs4w</td>\n",
       "      <td>&gt;The fifth in our series of articles on Global...</td>\n",
       "      <td>Negative</td>\n",
       "    </tr>\n",
       "    <tr>\n",
       "      <th>26122</th>\n",
       "      <td>27317</td>\n",
       "      <td>hosie8</td>\n",
       "      <td>fxxign7</td>\n",
       "      <td>Disagree. I knew Chinese who were complaining ...</td>\n",
       "      <td>Negative</td>\n",
       "    </tr>\n",
       "    <tr>\n",
       "      <th>26123</th>\n",
       "      <td>6646</td>\n",
       "      <td>p6ua5s</td>\n",
       "      <td>h9fbr62</td>\n",
       "      <td>asking the us for weapons and aid already just...</td>\n",
       "      <td>Negative</td>\n",
       "    </tr>\n",
       "  </tbody>\n",
       "</table>\n",
       "<p>26124 rows × 5 columns</p>\n",
       "</div>"
      ],
      "text/plain": [
       "       Unnamed: 0 Post_ID Comment_ID  \\\n",
       "0            4792  p5mjxp    h98tl62   \n",
       "1          157273  mdrrjf    gsb4bzn   \n",
       "2           42030  yah7io    itf9fov   \n",
       "3           23039  fywci6    fn46j5o   \n",
       "4           83438  6f10op    dietjm9   \n",
       "...           ...     ...        ...   \n",
       "26119      119314  n5abcb    gx2cr2z   \n",
       "26120      148451  jjh0mv    gad16qg   \n",
       "26121       81328  38heyu    crvbs4w   \n",
       "26122       27317  hosie8    fxxign7   \n",
       "26123        6646  p6ua5s    h9fbr62   \n",
       "\n",
       "                                                 Comment Majority_Sentiment  \n",
       "0      why do we pretend that members of the mujahiid...           Negative  \n",
       "1      Now the russian government cannot pretend anym...           Negative  \n",
       "2      Whether he liked it or not, he's not gonna sud...           Negative  \n",
       "3      lol, Chinese are the most racist. Just look at...           Negative  \n",
       "4      They could, and are already doing it, but the ...           Negative  \n",
       "...                                                  ...                ...  \n",
       "26119  There are people who believe in some religion ...            Neutral  \n",
       "26120                Awesome!! Hat did you draw this on?           Positive  \n",
       "26121  >The fifth in our series of articles on Global...           Negative  \n",
       "26122  Disagree. I knew Chinese who were complaining ...           Negative  \n",
       "26123  asking the us for weapons and aid already just...           Negative  \n",
       "\n",
       "[26124 rows x 5 columns]"
      ]
     },
     "execution_count": 5,
     "metadata": {},
     "output_type": "execute_result"
    }
   ],
   "source": [
    "test_df"
   ]
  },
  {
   "cell_type": "code",
   "execution_count": 7,
   "id": "d06d570c",
   "metadata": {},
   "outputs": [],
   "source": [
    "train_sentences = []\n",
    "for comment in train_df['Comment']:\n",
    "    sentences = sent_tokenize(comment)\n",
    "    train_sentences = sentences + train_sentences\n",
    "test_sentences = []\n",
    "for comment in test_df['Comment']:\n",
    "    sentences = sent_tokenize(comment)\n",
    "    test_sentences = sentences + train_sentences"
   ]
  },
  {
   "cell_type": "code",
   "execution_count": null,
   "id": "eb0857dc",
   "metadata": {},
   "outputs": [],
   "source": [
    "train_sentences"
   ]
  },
  {
   "cell_type": "code",
   "execution_count": 10,
   "id": "12efc1bf",
   "metadata": {},
   "outputs": [],
   "source": [
    "translator = str.maketrans('', '', string.punctuation)\n",
    "\n",
    "for sent in train_sentences:\n",
    "    sent = sent.lower()\n",
    "    sent = sent.translate(translator)\n",
    "for sent in test_sentences:\n",
    "    sent = sent.lower()\n",
    "    sent = sent.translate(translator)"
   ]
  },
  {
   "cell_type": "code",
   "execution_count": 20,
   "id": "529707c3",
   "metadata": {},
   "outputs": [],
   "source": [
    "train_unigram = []\n",
    "for sent in train_sentences:\n",
    "    words = word_tokenize(sent)\n",
    "    proc_words = []\n",
    "    for word in words:\n",
    "        if(word not in stops): proc_words.append(word)\n",
    "    train_unigram.append(proc_words)\n",
    "test_unigram = []\n",
    "for sent in test_sentences:\n",
    "    words = word_tokenize(sent)\n",
    "    proc_words = []\n",
    "    for word in words:\n",
    "        if(word not in stops): proc_words.append(word)\n",
    "    test_unigram.append(proc_words)\n",
    "    \n",
    "train_bigram = copy.deepcopy(train_unigram)\n",
    "test_bigram = copy.deepcopy(test_unigram)\n",
    "train_trigram = copy.deepcopy(train_unigram)\n",
    "test_trigram = copy.deepcopy(test_unigram)\n",
    "train_quadgram = copy.deepcopy(train_unigram)\n",
    "test_quadgram = copy.deepcopy(test_unigram)"
   ]
  },
  {
   "cell_type": "code",
   "execution_count": 21,
   "id": "c9504eca",
   "metadata": {},
   "outputs": [],
   "source": [
    "for sent in train_bigram:\n",
    "    sent.append('</s>')\n",
    "    sent.insert(0, '<s>')\n",
    "for sent in test_bigram:\n",
    "    sent.append('</s>')\n",
    "    sent.insert(0, '<s>')"
   ]
  },
  {
   "cell_type": "code",
   "execution_count": 22,
   "id": "4f418482",
   "metadata": {},
   "outputs": [],
   "source": [
    "for sent in train_trigram:\n",
    "    sent.append('</s>')\n",
    "    sent.insert(0, '<s>')\n",
    "    sent.append('</s>')\n",
    "    sent.insert(0, '<s>')\n",
    "for sent in test_trigram:\n",
    "    sent.append('</s>')\n",
    "    sent.insert(0, '<s>')\n",
    "    sent.append('</s>')\n",
    "    sent.insert(0, '<s>')"
   ]
  },
  {
   "cell_type": "code",
   "execution_count": 24,
   "id": "1ffaaedd",
   "metadata": {},
   "outputs": [],
   "source": [
    "for sent in train_quadgram:\n",
    "    sent.append('</s>')\n",
    "    sent.insert(0, '<s>')\n",
    "    sent.append('</s>')\n",
    "    sent.insert(0, '<s>')\n",
    "    sent.append('</s>')\n",
    "    sent.insert(0, '<s>')\n",
    "for sent in test_quadgram:\n",
    "    sent.append('</s>')\n",
    "    sent.insert(0, '<s>')\n",
    "    sent.append('</s>')\n",
    "    sent.insert(0, '<s>')\n",
    "    sent.append('</s>')\n",
    "    sent.insert(0, '<s>')"
   ]
  },
  {
   "cell_type": "code",
   "execution_count": 47,
   "id": "eda4775d",
   "metadata": {},
   "outputs": [
    {
     "data": {
      "text/plain": [
       "['If',\n",
       " '’',\n",
       " 'type',\n",
       " 'gets',\n",
       " 'offended',\n",
       " 'enough',\n",
       " 'stop',\n",
       " 'watching',\n",
       " 'SouthPark',\n",
       " ',',\n",
       " '’',\n",
       " 'target',\n",
       " 'audience',\n",
       " 'first',\n",
       " 'place',\n",
       " '.']"
      ]
     },
     "execution_count": 47,
     "metadata": {},
     "output_type": "execute_result"
    }
   ],
   "source": [
    "test_unigram[11111]"
   ]
  },
  {
   "cell_type": "code",
   "execution_count": 28,
   "id": "f15ac3a3",
   "metadata": {},
   "outputs": [],
   "source": [
    "start_sent = '<s>'\n",
    "end_sent = '</s>'"
   ]
  },
  {
   "cell_type": "markdown",
   "id": "50d7aa51",
   "metadata": {},
   "source": [
    "# Ngram Models"
   ]
  },
  {
   "cell_type": "markdown",
   "id": "02823a8a",
   "metadata": {},
   "source": [
    "### Unigram"
   ]
  },
  {
   "cell_type": "code",
   "execution_count": 31,
   "id": "3c7929d9",
   "metadata": {},
   "outputs": [],
   "source": [
    "class unigram_model():\n",
    "    \n",
    "    def __init__(self, sentences):\n",
    "        self.unigrams = dict()\n",
    "        self.corpus_size = 0\n",
    "        for sent in sentences:\n",
    "            for word in sent:\n",
    "                if word in self.unigrams:\n",
    "                    self.unigrams[word]+=1\n",
    "                else:\n",
    "                    self.unigrams[word] = 1\n",
    "                if word!=start_sent and word!=end_sent:\n",
    "                    self.corpus_size+=1\n",
    "        self.vocab_size = len(self.unigrams)-2\n",
    "    \n",
    "    def probability(self, word):\n",
    "        if word not in self.unigrams:\n",
    "            return 0\n",
    "        else:\n",
    "            return float(self.unigrams[word])/float(self.corpus_size)\n",
    "        \n",
    "    def perplexity(self, sent):\n",
    "        sum = 0\n",
    "        n = len(sent)\n",
    "        for word in sent:\n",
    "            if word==end_sent or word==start_sent:\n",
    "                continue\n",
    "            sum += np.log2(self.probability(word))\n",
    "        result = 2**((-1/float(n)) * float(sum))\n",
    "        return result\n",
    "    \n",
    "    def probability_smooth(self, word, k):\n",
    "        return float(k + float(self.unigrams[word]))/(float(self.corpus_size) + k*self.vocab_size)\n",
    "        \n",
    "    def perplexity_smooth(self, sent, k):\n",
    "        sum = 0\n",
    "        n = len(sent)\n",
    "        for word in sent:\n",
    "            if word==end_sent or word==start_sent:\n",
    "                continue\n",
    "            sum += np.log2(self.probability_smooth(word, k))\n",
    "        result = 2**((-1/float(n)) * float(sum))\n",
    "        return result"
   ]
  },
  {
   "cell_type": "code",
   "execution_count": 16,
   "id": "98c0c0d0",
   "metadata": {},
   "outputs": [
    {
     "name": "stderr",
     "output_type": "stream",
     "text": [
      "C:\\Users\\dhruv\\AppData\\Local\\Temp\\ipykernel_11196\\3948974202.py:28: RuntimeWarning: divide by zero encountered in log2\n",
      "  sum += np.log2(self.probability(word))\n"
     ]
    },
    {
     "data": {
      "text/plain": [
       "inf"
      ]
     },
     "execution_count": 16,
     "metadata": {},
     "output_type": "execute_result"
    }
   ],
   "source": [
    "UNIGRAM_MODEL = unigram_model(train_unigram)\n",
    "\n",
    "n = len(test_unigram)\n",
    "sum = 0\n",
    "for sent in test_unigram:\n",
    "    sum+=UNIGRAM_MODEL.perplexity(sent)\n",
    "avg_unigram_perplexity = sum/n\n",
    "avg_unigram_perplexity"
   ]
  },
  {
   "cell_type": "code",
   "execution_count": 41,
   "id": "08eacccf",
   "metadata": {},
   "outputs": [],
   "source": [
    "UNIGRAM_MODEL = unigram_model(train_unigram)\n",
    "\n",
    "for sent in test_unigram:\n",
    "    for word in sent:\n",
    "        if word not in UNIGRAM_MODEL.unigrams:\n",
    "            UNIGRAM_MODEL.unigrams[word] = 0\n",
    "\n",
    "UNIGRAM_MODEL.vocab_size = len(UNIGRAM_MODEL.unigrams)-2\n",
    "\n",
    "def avg_pp_unigram(k):\n",
    "    n = len(test_unigram)\n",
    "    sum = 0\n",
    "    for sent in test_unigram:\n",
    "        sum+=UNIGRAM_MODEL.perplexity_smooth(sent, k)\n",
    "    avg_unigram_perplexity_smooth = sum/n\n",
    "    print(k, avg_unigram_perplexity_smooth)\n",
    "    return avg_unigram_perplexity_smooth "
   ]
  },
  {
   "cell_type": "code",
   "execution_count": 42,
   "id": "7ffbea24",
   "metadata": {},
   "outputs": [
    {
     "ename": "ZeroDivisionError",
     "evalue": "float division by zero",
     "output_type": "error",
     "traceback": [
      "\u001b[1;31m---------------------------------------------------------------------------\u001b[0m",
      "\u001b[1;31mZeroDivisionError\u001b[0m                         Traceback (most recent call last)",
      "Cell \u001b[1;32mIn [42], line 4\u001b[0m\n\u001b[0;32m      2\u001b[0m y \u001b[38;5;241m=\u001b[39m []\n\u001b[0;32m      3\u001b[0m \u001b[38;5;28;01mfor\u001b[39;00m i \u001b[38;5;129;01min\u001b[39;00m x:\n\u001b[1;32m----> 4\u001b[0m     y\u001b[38;5;241m.\u001b[39mappend(\u001b[43mavg_pp_unigram\u001b[49m\u001b[43m(\u001b[49m\u001b[43mi\u001b[49m\u001b[43m)\u001b[49m)\n\u001b[0;32m      6\u001b[0m plt\u001b[38;5;241m.\u001b[39mplot(x, y)\n",
      "Cell \u001b[1;32mIn [41], line 14\u001b[0m, in \u001b[0;36mavg_pp_unigram\u001b[1;34m(k)\u001b[0m\n\u001b[0;32m     12\u001b[0m \u001b[38;5;28msum\u001b[39m \u001b[38;5;241m=\u001b[39m \u001b[38;5;241m0\u001b[39m\n\u001b[0;32m     13\u001b[0m \u001b[38;5;28;01mfor\u001b[39;00m sent \u001b[38;5;129;01min\u001b[39;00m test_unigram:\n\u001b[1;32m---> 14\u001b[0m     \u001b[38;5;28msum\u001b[39m\u001b[38;5;241m+\u001b[39m\u001b[38;5;241m=\u001b[39m\u001b[43mUNIGRAM_MODEL\u001b[49m\u001b[38;5;241;43m.\u001b[39;49m\u001b[43mperplexity_smooth\u001b[49m\u001b[43m(\u001b[49m\u001b[43msent\u001b[49m\u001b[43m,\u001b[49m\u001b[43m \u001b[49m\u001b[43mk\u001b[49m\u001b[43m)\u001b[49m\n\u001b[0;32m     15\u001b[0m avg_unigram_perplexity_smooth \u001b[38;5;241m=\u001b[39m \u001b[38;5;28msum\u001b[39m\u001b[38;5;241m/\u001b[39mn\n\u001b[0;32m     16\u001b[0m \u001b[38;5;28mprint\u001b[39m(k, avg_unigram_perplexity_smooth)\n",
      "Cell \u001b[1;32mIn [31], line 42\u001b[0m, in \u001b[0;36munigram_model.perplexity_smooth\u001b[1;34m(self, sent, k)\u001b[0m\n\u001b[0;32m     40\u001b[0m         \u001b[38;5;28;01mcontinue\u001b[39;00m\n\u001b[0;32m     41\u001b[0m     \u001b[38;5;28msum\u001b[39m \u001b[38;5;241m+\u001b[39m\u001b[38;5;241m=\u001b[39m np\u001b[38;5;241m.\u001b[39mlog2(\u001b[38;5;28mself\u001b[39m\u001b[38;5;241m.\u001b[39mprobability_smooth(word, k))\n\u001b[1;32m---> 42\u001b[0m result \u001b[38;5;241m=\u001b[39m \u001b[38;5;241m2\u001b[39m\u001b[38;5;241m*\u001b[39m\u001b[38;5;241m*\u001b[39m((\u001b[38;5;241;43m-\u001b[39;49m\u001b[38;5;241;43m1\u001b[39;49m\u001b[38;5;241;43m/\u001b[39;49m\u001b[38;5;28;43mfloat\u001b[39;49m\u001b[43m(\u001b[49m\u001b[43mn\u001b[49m\u001b[43m)\u001b[49m) \u001b[38;5;241m*\u001b[39m \u001b[38;5;28mfloat\u001b[39m(\u001b[38;5;28msum\u001b[39m))\n\u001b[0;32m     43\u001b[0m \u001b[38;5;28;01mreturn\u001b[39;00m result\n",
      "\u001b[1;31mZeroDivisionError\u001b[0m: float division by zero"
     ]
    }
   ],
   "source": [
    "x = np.linspace(5, 5.5, 10)\n",
    "y = []\n",
    "for i in x:\n",
    "    y.append(avg_pp_unigram(i))\n",
    "    \n",
    "plt.plot(x, y)"
   ]
  },
  {
   "cell_type": "code",
   "execution_count": 48,
   "id": "e6976532",
   "metadata": {},
   "outputs": [
    {
     "name": "stdout",
     "output_type": "stream",
     "text": [
      "5.111111111111111 89.86832237036468\n",
      "Optimized perplixity for Unigram for k = 5.111111111111111 is 89.86832237036468\n"
     ]
    }
   ],
   "source": [
    "k = x[np.argmin(y)]\n",
    "print('Optimized perplixity for Unigram for k =', k,'is', avg_pp_unigram(k))"
   ]
  },
  {
   "cell_type": "markdown",
   "id": "c592cd2e",
   "metadata": {},
   "source": [
    "### Bigram"
   ]
  },
  {
   "cell_type": "code",
   "execution_count": 32,
   "id": "00124013",
   "metadata": {},
   "outputs": [],
   "source": [
    "class bigram_model(unigram_model):\n",
    "    \n",
    "    def __init__(self, sentences):\n",
    "        unigram_model.__init__(self, sentences)\n",
    "        self.bigrams = dict()\n",
    "        self.total_bigrams = 0\n",
    "        for sent in sentences:\n",
    "            prev_word = sent[0]\n",
    "            for word in sent[1:]:\n",
    "                self.bigrams[(prev_word, word)] = self.bigrams.get((prev_word,word),0) + 1\n",
    "                self.total_bigrams += 1\n",
    "                prev_word = word\n",
    "        self.unique_bigrams = len(self.bigrams)\n",
    "    \n",
    "    def probability(self, prev_word, word):\n",
    "        if (prev_word, word) not in self.bigrams:\n",
    "            return 0; \n",
    "        else:\n",
    "            return float(self.bigrams[(prev_word, word)])/float(self.unigrams[prev_word])\n",
    "        \n",
    "    def perplexity(self, sent):\n",
    "        sum = 0\n",
    "        n = 0\n",
    "        prev_word = sent[0]\n",
    "        for word in sent[1:]:\n",
    "            n+=1\n",
    "            sum += np.log2(self.probability(prev_word, word))\n",
    "            prev_word = word\n",
    "        result = 2**((-1/float(n)) * float(sum))\n",
    "        return result\n",
    "    \n",
    "    def probability_smooth(self, prev_word, word, k):\n",
    "        return float(k + float(self.bigrams[(prev_word, word)]))/(float(self.unigrams[prev_word]) + k*self.vocab_size)\n",
    "        \n",
    "    def perplexity_smooth(self, sent, k):\n",
    "        sum = 0\n",
    "        n = 0\n",
    "        prev_word = sent[0]\n",
    "        for word in sent[1:]:\n",
    "            n+=1\n",
    "            sum += np.log2(self.probability_smooth(prev_word, word, k))\n",
    "            prev_word = word\n",
    "        result = 2**((-1/float(n)) * float(sum))\n",
    "        return result"
   ]
  },
  {
   "cell_type": "code",
   "execution_count": 78,
   "id": "b55e864c",
   "metadata": {},
   "outputs": [
    {
     "name": "stderr",
     "output_type": "stream",
     "text": [
      "C:\\Users\\dhruv\\AppData\\Local\\Temp\\ipykernel_22148\\1074084696.py:27: RuntimeWarning: divide by zero encountered in log2\n",
      "  sum += np.log2(self.probability(prev_word, word))\n"
     ]
    },
    {
     "data": {
      "text/plain": [
       "inf"
      ]
     },
     "execution_count": 78,
     "metadata": {},
     "output_type": "execute_result"
    }
   ],
   "source": [
    "BIGRAM_MODEL = bigram_model(train_bigram)\n",
    "\n",
    "n = len(test_bigram)\n",
    "sum = 0\n",
    "for sent in test_bigram:\n",
    "    sum+=BIGRAM_MODEL.perplexity(sent)\n",
    "avg_bigram_perplexity = sum/n\n",
    "avg_bigram_perplexity"
   ]
  },
  {
   "cell_type": "code",
   "execution_count": 62,
   "id": "a858b9ab",
   "metadata": {},
   "outputs": [],
   "source": [
    "BIGRAM_MODEL = bigram_model(train_bigram)\n",
    "\n",
    "for sent in test_bigram:\n",
    "    prev_word = sent[0]\n",
    "    for word in sent[1:]:\n",
    "        if (prev_word, word) not in BIGRAM_MODEL.bigrams:\n",
    "            BIGRAM_MODEL.bigrams[(prev_word, word)] = 0\n",
    "            if word not in BIGRAM_MODEL.unigrams:\n",
    "                BIGRAM_MODEL.unigrams[word] = 0\n",
    "        prev_word = word\n",
    "\n",
    "BIGRAM_MODEL.vocab_size = len(BIGRAM_MODEL.unigrams)-2\n",
    "BIGRAM_MODEL.unique_bigrams = len(BIGRAM_MODEL.bigrams)\n",
    "\n",
    "def avg_pp_bigram(k):\n",
    "    n = len(test_bigram)\n",
    "    sum = 0\n",
    "    for sent in test_bigram:\n",
    "        sum+=BIGRAM_MODEL.perplexity_smooth(sent, k)\n",
    "    avg_bigram_perplexity_smooth = sum/n\n",
    "    print(k, avg_bigram_perplexity_smooth)\n",
    "    return avg_bigram_perplexity_smooth "
   ]
  },
  {
   "cell_type": "code",
   "execution_count": 100,
   "id": "c7cab176",
   "metadata": {},
   "outputs": [
    {
     "name": "stdout",
     "output_type": "stream",
     "text": [
      "3e-08 18.001925681711224\n",
      "3.25e-08 18.00191263733735\n",
      "3.4999999999999996e-08 18.001907159567995\n",
      "3.75e-08 18.00190812568656\n",
      "4e-08 18.00191464081523\n"
     ]
    },
    {
     "data": {
      "text/plain": [
       "[<matplotlib.lines.Line2D at 0x1f420f17970>]"
      ]
     },
     "execution_count": 100,
     "metadata": {},
     "output_type": "execute_result"
    },
    {
     "data": {
      "image/png": "[encoded data removed]",
      "text/plain": [
       "<Figure size 640x480 with 1 Axes>"
      ]
     },
     "metadata": {},
     "output_type": "display_data"
    }
   ],
   "source": [
    "x = np.linspace(0.00000003, 0.00000004, 5)\n",
    "y = []\n",
    "for i in x:\n",
    "    y.append(avg_pp_bigram(i))\n",
    "    \n",
    "plt.plot(x, y)"
   ]
  },
  {
   "cell_type": "code",
   "execution_count": 101,
   "id": "76dd7fe8",
   "metadata": {},
   "outputs": [
    {
     "name": "stdout",
     "output_type": "stream",
     "text": [
      "3.4999999999999996e-08 18.001907159567995\n",
      "Optimized perplixity for Bigram for k = 3.4999999999999996e-08 is 18.001907159567995\n"
     ]
    }
   ],
   "source": [
    "k = x[np.argmin(y)]\n",
    "print('Optimized perplixity for Bigram for k =', k,'is', avg_pp_bigram(k))"
   ]
  },
  {
   "cell_type": "markdown",
   "id": "9058d541",
   "metadata": {},
   "source": [
    "### Trigram"
   ]
  },
  {
   "cell_type": "code",
   "execution_count": 33,
   "id": "1587686b",
   "metadata": {},
   "outputs": [],
   "source": [
    "class trigram_model(bigram_model):\n",
    "    \n",
    "    def __init__(self, sentences):\n",
    "        bigram_model.__init__(self, sentences)\n",
    "        self.trigrams = dict()\n",
    "        self.total_trigrams = 0\n",
    "        for sent in sentences:\n",
    "            for i in range(len(sent)-2):\n",
    "                if (sent[i], sent[i+1], sent[i+2]) not in self.trigrams:\n",
    "                    self.trigrams[(sent[i], sent[i+1], sent[i+2])] = 1\n",
    "                else:\n",
    "                    self.trigrams[(sent[i], sent[i+1], sent[i+2])] += 1\n",
    "                self.total_trigrams += 1\n",
    "        self.unique_trigrams = len(self.trigrams)\n",
    "    \n",
    "    def probability(self, pp_word, prev_word, word):\n",
    "        if (pp_word, prev_word, word) not in self.trigrams:\n",
    "            return 0; \n",
    "        else:\n",
    "            return float(self.trigrams[(pp_word, prev_word, word)])/float(self.bigrams[(pp_word, prev_word)])\n",
    "        \n",
    "    def perplexity(self, sent):\n",
    "        sum = 0\n",
    "        n = 0\n",
    "        for i in range(len(sent)-2):\n",
    "            n+=1\n",
    "            sum += np.log2(self.probability(sent[i], sent[i+1], sent[i+2]))\n",
    "        result = 2**((-1/float(n)) * float(sum))\n",
    "        return result\n",
    "    \n",
    "    def probability_smooth(self, pp_word, prev_word, word, k):\n",
    "        return float(k + float(self.trigrams[(pp_word, prev_word, word)]))/(float(self.bigrams[(pp_word, prev_word)]) + k*self.vocab_size)\n",
    "        \n",
    "    def perplexity_smooth(self, sent, k):\n",
    "        sum = 0\n",
    "        n = 0\n",
    "        for i in range(len(sent)-2):\n",
    "            n+=1\n",
    "            sum += np.log2(self.probability_smooth(sent[i], sent[i+1], sent[i+2], k))\n",
    "        result = 2**((-1/float(n)) * float(sum))\n",
    "        return result"
   ]
  },
  {
   "cell_type": "code",
   "execution_count": 97,
   "id": "f0c05005",
   "metadata": {},
   "outputs": [
    {
     "name": "stderr",
     "output_type": "stream",
     "text": [
      "C:\\Users\\dhruv\\AppData\\Local\\Temp\\ipykernel_22148\\636619404.py:27: RuntimeWarning: divide by zero encountered in log2\n",
      "  sum += np.log2(self.probability(sent[i], sent[i+1], sent[i+2]))\n"
     ]
    },
    {
     "data": {
      "text/plain": [
       "inf"
      ]
     },
     "execution_count": 97,
     "metadata": {},
     "output_type": "execute_result"
    }
   ],
   "source": [
    "TRIGRAM_MODEL = trigram_model(train_trigram)\n",
    "\n",
    "n = len(test_trigram)\n",
    "sum = 0\n",
    "for sent in test_trigram:\n",
    "    sum+=TRIGRAM_MODEL.perplexity(sent)\n",
    "avg_trigram_perplexity = sum/n\n",
    "avg_trigram_perplexity"
   ]
  },
  {
   "cell_type": "code",
   "execution_count": 38,
   "id": "df1d66ef",
   "metadata": {},
   "outputs": [],
   "source": [
    "TRIGRAM_MODEL = trigram_model(train_trigram)\n",
    "\n",
    "for sent in test_trigram:\n",
    "    prev_word = sent[0]\n",
    "    for word in sent[1:]:\n",
    "        if (prev_word, word) not in TRIGRAM_MODEL.bigrams:\n",
    "            TRIGRAM_MODEL.bigrams[(prev_word, word)] = 0\n",
    "            if word not in TRIGRAM_MODEL.unigrams:\n",
    "                TRIGRAM_MODEL.unigrams[word] = 0\n",
    "        prev_word = word\n",
    "    for i in range(len(sent)-2):\n",
    "        if(sent[i], sent[i+1], sent[i+2]) not in TRIGRAM_MODEL.trigrams:\n",
    "            TRIGRAM_MODEL.trigrams[(sent[i], sent[i+1], sent[i+2])] = 0\n",
    "\n",
    "TRIGRAM_MODEL.vocab_size = len(TRIGRAM_MODEL.unigrams)-2\n",
    "TRIGRAM_MODEL.unique_bigrams = len(TRIGRAM_MODEL.bigrams)\n",
    "TRIGRAM_MODEL.unique_trigrams = len(TRIGRAM_MODEL.trigrams)\n",
    "\n",
    "def avg_pp_trigram(k):\n",
    "    n = len(test_trigram)\n",
    "    sum = 0\n",
    "    for sent in test_trigram:\n",
    "        sum+=TRIGRAM_MODEL.perplexity_smooth(sent, k)\n",
    "    avg_trigram_perplexity_smooth = sum/n\n",
    "    print(k, avg_trigram_perplexity_smooth)\n",
    "    return avg_trigram_perplexity_smooth "
   ]
  },
  {
   "cell_type": "code",
   "execution_count": 39,
   "id": "eb248401",
   "metadata": {},
   "outputs": [
    {
     "name": "stdout",
     "output_type": "stream",
     "text": [
      "1.5e-07 7.919486803056827\n",
      "1.7e-07 7.8977025500278275\n",
      "1.8999999999999998e-07 7.879752667087822\n",
      "2.1e-07 7.864750619153799\n",
      "2.3e-07 7.852075834241069\n"
     ]
    },
    {
     "data": {
      "text/plain": [
       "[<matplotlib.lines.Line2D at 0x1f1946a67d0>]"
      ]
     },
     "execution_count": 39,
     "metadata": {},
     "output_type": "execute_result"
    },
    {
     "data": {
      "image/png": "[encoded data removed]",
      "text/plain": [
       "<Figure size 640x480 with 1 Axes>"
      ]
     },
     "metadata": {},
     "output_type": "display_data"
    }
   ],
   "source": [
    "x = np.linspace(0.00000015, 0.00000023, 5)\n",
    "y = []\n",
    "for i in x:\n",
    "    y.append(avg_pp_trigram(i))\n",
    "    \n",
    "plt.plot(x, y)"
   ]
  },
  {
   "cell_type": "code",
   "execution_count": 40,
   "id": "a0f01dc9",
   "metadata": {},
   "outputs": [
    {
     "name": "stdout",
     "output_type": "stream",
     "text": [
      "2.3e-07 7.852075834241069\n",
      "Optimized perplixity for Trigram for k = 2.3e-07 is 7.852075834241069\n"
     ]
    }
   ],
   "source": [
    "k = x[np.argmin(y)]\n",
    "print('Optimized perplixity for Trigram for k =', k,'is', avg_pp_trigram(k))"
   ]
  },
  {
   "cell_type": "markdown",
   "id": "7ac15ced",
   "metadata": {},
   "source": [
    "### Quadgram"
   ]
  },
  {
   "cell_type": "code",
   "execution_count": 34,
   "id": "8da9f848",
   "metadata": {},
   "outputs": [],
   "source": [
    "class quadgram_model(trigram_model):\n",
    "    \n",
    "    def __init__(self, sentences):\n",
    "        trigram_model.__init__(self, sentences)\n",
    "        self.quadgrams = dict()\n",
    "        self.total_quadgrams = 0\n",
    "        for sent in sentences:\n",
    "            for i in range(len(sent)-3):\n",
    "                if (sent[i], sent[i+1], sent[i+2], sent[i+3]) not in self.quadgrams:\n",
    "                    self.quadgrams[(sent[i], sent[i+1], sent[i+2], sent[i+3])] = 1\n",
    "                else:\n",
    "                    self.quadgrams[(sent[i], sent[i+1], sent[i+2], sent[i+3])] += 1\n",
    "                self.total_quadgrams += 1\n",
    "        self.unique_quadgrams = len(self.quadgrams)\n",
    "    \n",
    "    def probability(self, prev_p_word, pp_word, prev_word, word):\n",
    "        if (prev_p_word, pp_word, prev_word, word) not in self.quadgrams:\n",
    "            return 0; \n",
    "        else:\n",
    "            return float(self.quadgrams[(prev_p_word, pp_word, prev_word, word)])/float(self.trigrams[(prev_p_word, pp_word, prev_word)])\n",
    "        \n",
    "    def perplexity(self, sent):\n",
    "        sum = 0\n",
    "        n = 0\n",
    "        for i in range(len(sent)-3):\n",
    "            n+=1\n",
    "            sum += np.log2(self.probability(sent[i], sent[i+1], sent[i+2], sent[i+3]))\n",
    "        result = 2**((-1/float(n)) * float(sum))\n",
    "        return result\n",
    "    \n",
    "    def probability_smooth(self, prev_p_word, pp_word, prev_word, word, k):\n",
    "        return float(k + float(self.quadgrams[(prev_p_word, pp_word, prev_word, word)]))/(float(self.trigrams[(prev_p_word, pp_word, prev_word)]) + k*self.vocab_size)\n",
    "        \n",
    "    def perplexity_smooth(self, sent, k):\n",
    "        sum = 0\n",
    "        n = 0\n",
    "        for i in range(len(sent)-3):\n",
    "            n+=1\n",
    "            sum += np.log2(self.probability_smooth(sent[i], sent[i+1], sent[i+2], sent[i+3], k))\n",
    "        result = 2**((-1/float(n)) * float(sum))\n",
    "        return result"
   ]
  },
  {
   "cell_type": "code",
   "execution_count": 8,
   "id": "180a4856",
   "metadata": {},
   "outputs": [],
   "source": []
  },
  {
   "cell_type": "code",
   "execution_count": 109,
   "id": "93e112cb",
   "metadata": {},
   "outputs": [
    {
     "name": "stderr",
     "output_type": "stream",
     "text": [
      "C:\\Users\\dhruv\\AppData\\Local\\Temp\\ipykernel_22148\\1640041841.py:27: RuntimeWarning: divide by zero encountered in log2\n",
      "  sum += np.log2(self.probability(sent[i], sent[i+1], sent[i+2], sent[i+3]))\n"
     ]
    },
    {
     "data": {
      "text/plain": [
       "inf"
      ]
     },
     "execution_count": 109,
     "metadata": {},
     "output_type": "execute_result"
    }
   ],
   "source": [
    "QUADGRAM_MODEL = quadgram_model(train_quadgram)\n",
    "\n",
    "n = len(test_quadgram)\n",
    "sum = 0\n",
    "for sent in test_quadgram:\n",
    "    sum+=QUADGRAM_MODEL.perplexity(sent)\n",
    "avg_quadgram_perplexity = sum/n\n",
    "avg_quadgram_perplexity"
   ]
  },
  {
   "cell_type": "code",
   "execution_count": 35,
   "id": "4cb40d1a",
   "metadata": {},
   "outputs": [],
   "source": [
    "QUADGRAM_MODEL = quadgram_model(train_quadgram)\n",
    "\n",
    "for sent in test_quadgram:\n",
    "    prev_word = sent[0]\n",
    "    for word in sent[1:]:\n",
    "        if (prev_word, word) not in QUADGRAM_MODEL.bigrams:\n",
    "            QUADGRAM_MODEL.bigrams[(prev_word, word)] = 0\n",
    "            if word not in QUADGRAM_MODEL.unigrams:\n",
    "                QUADGRAM_MODEL.unigrams[word] = 0\n",
    "        prev_word = word\n",
    "    for i in range(len(sent)-2):\n",
    "        if(sent[i], sent[i+1], sent[i+2]) not in QUADGRAM_MODEL.trigrams:\n",
    "            QUADGRAM_MODEL.trigrams[(sent[i], sent[i+1], sent[i+2])] = 0\n",
    "    for i in range(len(sent)-3):\n",
    "        if(sent[i], sent[i+1], sent[i+2], sent[i+3]) not in QUADGRAM_MODEL.quadgrams:\n",
    "            QUADGRAM_MODEL.quadgrams[(sent[i], sent[i+1], sent[i+2], sent[i+3])] = 0\n",
    "\n",
    "QUADGRAM_MODEL.vocab_size = len(QUADGRAM_MODEL.unigrams)-2\n",
    "QUADGRAM_MODEL.unique_bigrams = len(QUADGRAM_MODEL.bigrams)\n",
    "QUADGRAM_MODEL.unique_trigrams = len(QUADGRAM_MODEL.trigrams)\n",
    "QUADGRAM_MODEL.unique_quadgrams = len(QUADGRAM_MODEL.quadgrams)\n",
    "\n",
    "def avg_pp_quadgram(k):\n",
    "    n = len(test_quadgram)\n",
    "    sum = 0\n",
    "    for sent in test_quadgram:\n",
    "        sum+=QUADGRAM_MODEL.perplexity_smooth(sent, k)\n",
    "    avg_quadgram_perplexity_smooth = sum/n\n",
    "    print(k, avg_quadgram_perplexity_smooth)\n",
    "    return avg_quadgram_perplexity_smooth "
   ]
  },
  {
   "cell_type": "code",
   "execution_count": 36,
   "id": "39928466",
   "metadata": {},
   "outputs": [
    {
     "name": "stdout",
     "output_type": "stream",
     "text": [
      "2e-07 4.214071459135766\n",
      "3e-07 4.217585073672223\n",
      "4e-07 4.225746708870591\n",
      "5e-07 4.236334145166454\n"
     ]
    },
    {
     "data": {
      "text/plain": [
       "[<matplotlib.lines.Line2D at 0x1f12046d780>]"
      ]
     },
     "execution_count": 36,
     "metadata": {},
     "output_type": "execute_result"
    },
    {
     "data": {
      "image/png": "[encoded data removed]",
      "text/plain": [
       "<Figure size 640x480 with 1 Axes>"
      ]
     },
     "metadata": {},
     "output_type": "display_data"
    }
   ],
   "source": [
    "x = np.linspace(0.0000002, 0.0000005, 4)\n",
    "y = []\n",
    "for i in x:\n",
    "    y.append(avg_pp_quadgram(i))\n",
    "    \n",
    "plt.plot(x, y)"
   ]
  },
  {
   "cell_type": "code",
   "execution_count": 37,
   "id": "287e2e26",
   "metadata": {},
   "outputs": [
    {
     "name": "stdout",
     "output_type": "stream",
     "text": [
      "2e-07 4.214071459135766\n",
      "Optimized perplixity for Quadgram for k = 2e-07 is 4.214071459135766\n"
     ]
    }
   ],
   "source": [
    "k = x[np.argmin(y)]\n",
    "print('Optimized perplixity for Quadgram for k =', k,'is', avg_pp_quadgram(k))"
   ]
  },
  {
   "cell_type": "markdown",
   "id": "2ea275bc",
   "metadata": {},
   "source": [
    "# BONUS"
   ]
  },
  {
   "cell_type": "code",
   "execution_count": null,
   "id": "1e5ef32a",
   "metadata": {},
   "outputs": [],
   "source": []
  }
 ],
 "metadata": {
  "kernelspec": {
   "display_name": "Python 3 (ipykernel)",
   "language": "python",
   "name": "python3"
  },
  "language_info": {
   "codemirror_mode": {
    "name": "ipython",
    "version": 3
   },
   "file_extension": ".py",
   "mimetype": "text/x-python",
   "name": "python",
   "nbconvert_exporter": "python",
   "pygments_lexer": "ipython3",
   "version": "3.10.0"
  }
 },
 "nbformat": 4,
 "nbformat_minor": 5
}
