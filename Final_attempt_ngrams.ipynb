{
 "cells": [
  {
   "cell_type": "code",
   "execution_count": 40,
   "metadata": {},
   "outputs": [],
   "source": [
    "from nltk.tokenize import sent_tokenize\n",
    "from nltk.tokenize import word_tokenize\n",
    "import pandas as pd\n",
    "import nltk\n",
    "import string\n",
    "import numpy as np\n",
    "import copy\n",
    "from matplotlib import pyplot as  plt"
   ]
  },
  {
   "cell_type": "code",
   "execution_count": 2,
   "metadata": {},
   "outputs": [],
   "source": [
    "data=pd.read_csv('train_dataset.csv')"
   ]
  },
  {
   "cell_type": "code",
   "execution_count": 3,
   "metadata": {},
   "outputs": [],
   "source": [
    "comments='Comment'"
   ]
  },
  {
   "cell_type": "code",
   "execution_count": 4,
   "metadata": {},
   "outputs": [],
   "source": [
    "def tokenize_sent(data):\n",
    "    sentences=sent_tokenize(data)\n",
    "    return sentences\n",
    "\n",
    "def tokenize_word(data):\n",
    "    words=word_tokenize(data)\n",
    "    return words"
   ]
  },
  {
   "cell_type": "code",
   "execution_count": 5,
   "metadata": {},
   "outputs": [],
   "source": [
    "data[comments]=data[comments].apply(tokenize_sent)"
   ]
  },
  {
   "cell_type": "code",
   "execution_count": 6,
   "metadata": {},
   "outputs": [],
   "source": [
    "unigram_data=data[comments]\n",
    "sentences=[]\n",
    "translator = str.maketrans('', '', string.punctuation)\n",
    "for data in unigram_data:\n",
    "    for sent in data:\n",
    "        new_sent=sent.lower()\n",
    "        sentences.append(new_sent.translate(translator))"
   ]
  },
  {
   "cell_type": "code",
   "execution_count": 7,
   "metadata": {},
   "outputs": [],
   "source": [
    "unigram_sent=sentences\n",
    "bigram_sent=[]\n",
    "trigram_sent=[]\n",
    "quadgram_sent=[]"
   ]
  },
  {
   "cell_type": "code",
   "execution_count": 8,
   "metadata": {},
   "outputs": [],
   "source": [
    "for sent in sentences:\n",
    "    bigram_sent.append(sent)\n",
    "    trigram_sent.append(sent)\n",
    "    quadgram_sent.append(sent)"
   ]
  },
  {
   "cell_type": "code",
   "execution_count": 9,
   "metadata": {},
   "outputs": [],
   "source": [
    "unigram_words=[]\n",
    "for sent in unigram_sent:\n",
    "    words=word_tokenize(sent)\n",
    "    unigram_words.append(words)\n"
   ]
  },
  {
   "cell_type": "code",
   "execution_count": 10,
   "metadata": {},
   "outputs": [],
   "source": [
    "bigram_words=unigram_words.copy()\n",
    "trigram_words=unigram_words.copy()\n",
    "quadgram_words = unigram_words.copy()\n",
    "\n",
    "for sent in bigram_words:\n",
    "    sent.append('</s>')\n",
    "    sent.insert(0,'<s>')"
   ]
  },
  {
   "cell_type": "code",
   "execution_count": 11,
   "metadata": {},
   "outputs": [],
   "source": [
    "for sent in trigram_words:\n",
    "    sent.append('</s>')\n",
    "    sent.append('</s>')\n",
    "    sent.insert(0,'<s>')\n",
    "    sent.insert(0,'<s>')\n",
    "\n",
    "for sent in quadgram_words:\n",
    "    sent.append('</s>')\n",
    "    sent.append('</s>')\n",
    "    sent.append('</s>')\n",
    "    sent.insert(0,'<s>')\n",
    "    sent.insert(0,'<s>')\n",
    "    sent.insert(0,'<s>')"
   ]
  },
  {
   "cell_type": "code",
   "execution_count": 99,
   "metadata": {},
   "outputs": [],
   "source": [
    "import numpy as np\n",
    "start_sent='<s>'\n",
    "end_sent='</s>'\n",
    "\n",
    "class unigram_model():\n",
    "    \n",
    "  def __init__(self,sentences):\n",
    "    self.unigram_frequencies=dict()\n",
    "    self.vocabulary=set()\n",
    "    self.corpus_size=0\n",
    "    for sentence in sentences:\n",
    "      for word in sentence:\n",
    "        self.unigram_frequencies[word]=self.unigram_frequencies.get(word,0)+1\n",
    "        if word!=start_sent or  word!=end_sent:  \n",
    "         self.corpus_size+=1\n",
    "        if word not in self.vocabulary:\n",
    "         self.vocabulary.add(word)\n",
    "    self.vocab_size=len(self.unigram_frequencies)-2 #Not including start and end of sentence in vocabulary\n",
    "\n",
    "  def calculate_probability(self,word):\n",
    "    if word not in self.vocabulary:\n",
    "      return 0\n",
    "    return float(self.unigram_frequencies[word])/float(self.corpus_size)\n",
    "\n",
    "  def calculate_perplexity(self,word):\n",
    "    prob_word=self.calculate_probability(word)\n",
    "    if(prob_word==0):\n",
    "      return 10**(7)\n",
    "    perplexity=np.log2(float(1/prob_word))*(float(1/self.corpus_size))\n",
    "    return perplexity\n",
    "\n",
    "  def calculate_probability_smooth(self , word, k):\n",
    "        \n",
    "        return float(self.unigram_frequencies[word] + k)/(float(self.corpus_size) + k*float(self.vocab_size))\n",
    "        \n",
    "        \n",
    "    \n",
    "        \n",
    "        \n",
    "\n",
    "\n",
    "class bigram_model(unigram_model):\n",
    "  def __init__(self,sentences):\n",
    "    unigram_model.__init__(self,sentences)\n",
    "    self.bigram_frequencies=dict()\n",
    "    self.total_bigrams=0\n",
    "    for sentence in sentences:\n",
    "      prev_word=sentence[0]\n",
    "      for word in sentence[1:]:\n",
    "        self.bigram_frequencies[(prev_word,word)]=self.bigram_frequencies.get((prev_word,word),0)+1\n",
    "        self.total_bigrams+=1\n",
    "        prev_word=word\n",
    "\n",
    "    self.total_bigram_words=len(self.bigram_frequencies)\n",
    "\n",
    "  def calculate_probability(self,prev_word,word):\n",
    "    a=self.bigram_frequencies.get((prev_word,word),0)\n",
    "    b=self.unigram_frequencies.get(prev_word,0)\n",
    "\n",
    "    if b==0:\n",
    "      return 0\n",
    "    return float(a)/float(b)\n",
    "\n",
    "  def calculate_perplexity(self,prev_word,word):\n",
    "    prob_word=self.calculate_probability(prev_word,word)\n",
    "    if(prob_word==0):\n",
    "      return 10**(7)\n",
    "    perplexity=np.log2(float((1/prob_word)))*(float(1/self.total_bigrams))\n",
    "    return perplexity\n",
    "\n",
    "  def calculate_probability_smooth(self,prev_word,word , k):\n",
    "        \n",
    "    a=self.bigram_frequencies.get((prev_word,word),0)\n",
    "    b=self.unigram_frequencies.get(prev_word,0)\n",
    "\n",
    "    return (float(a) + k) /(float(b) + k*self.vocab_size)\n",
    "\n",
    "class trigram_model(bigram_model):\n",
    "    def __init__(self, sentences):\n",
    "        bigram_model.__init__(self, sentences)\n",
    "        self.trigram_frequencies = {}\n",
    "        self.total_trigrams=0\n",
    "        for sentence in sentences:\n",
    "            prev_word1 = sentence[0]\n",
    "            prev_word2 = sentence[1]\n",
    "            for word in sentence[2:]:\n",
    "              self.trigram_frequencies[(prev_word1, prev_word2, word)] = self.trigram_frequencies.get((prev_word1, prev_word2, word), 0) + 1\n",
    "              prev_word1 = prev_word2\n",
    "              prev_word2 = word\n",
    "              self.total_trigrams+=1\n",
    "\n",
    "        self.total_trigram_words = len(self.trigram_frequencies)\n",
    "                        \n",
    "    def calculate_probability(self, prev_word1, prev_word2, word):\n",
    "        trigram_frequency = self.trigram_frequencies.get((prev_word1, prev_word2, word), 0)\n",
    "        bigram_frequency = self.bigram_frequencies.get((prev_word2, word), 0)\n",
    "\n",
    "        if bigram_frequency == 0:\n",
    "            return 0\n",
    "        return float(trigram_frequency) / float(bigram_frequency)\n",
    "\n",
    "    def calculate_perplexity(self,prev_word1, prev_word2, word):\n",
    "      prob_word=self.calculate_probability(prev_word1, prev_word2, word)\n",
    "      if(prob_word==0):\n",
    "        return 10**(7)\n",
    "      perplexity=np.log2(float((1/prob_word)))*(float(1/self.total_trigrams))\n",
    "      return perplexity\n",
    "\n",
    "    def calculate_probability_smooth(self, prev_word1, prev_word2, word , k):\n",
    "        trigram_frequency = self.trigram_frequencies.get((prev_word1, prev_word2, word), 0)\n",
    "        bigram_frequency = self.bigram_frequencies.get((prev_word2, word), 0)\n",
    "\n",
    "        return (float(trigram_frequency) + k) / (float(bigram_frequency) + k*self.vocab_size)\n",
    "    \n",
    "    \n",
    "    \n",
    "\n",
    "\n",
    "class quadgram_model(trigram_model):\n",
    "    def __init__(self, sentences):\n",
    "        trigram_model.__init__(self, sentences)\n",
    "        self.quadgram_frequencies = {}\n",
    "        self.total_quadgrams=0\n",
    "        for sentence in sentences:\n",
    "            prev_word1 = sentence[0]\n",
    "            prev_word2 = sentence[1]\n",
    "            prev_word3 = sentence[2]\n",
    "            for word in sentence[3:]:\n",
    "                quadgram = (prev_word1,prev_word2,prev_word3,word)\n",
    "                self.quadgram_frequencies[quadgram] = self.quadgram_frequencies.get(quadgram, 0) + 1\n",
    "                prev_word1 = prev_word2\n",
    "                prev_word2 = prev_word3\n",
    "                prev_word3 = word\n",
    "                self.total_quadgrams+=1\n",
    "\n",
    "        self.total_quadgram_words = len(self.quadgram_frequencies)\n",
    "\n",
    "\n",
    "    def calculate_probability(self, prev_word1, prev_word2, prev_word3, word):\n",
    "        quadgram_frequency = self.quadgram_frequencies.get( (prev_word1, prev_word2, prev_word3, word), 0)\n",
    "        trigram_frequency = self.trigram_frequencies.get( (prev_word1, prev_word2, prev_word3), 0)\n",
    "\n",
    "        if trigram_frequency == 0:\n",
    "            return 0\n",
    "        return float(quadgram_frequency) / float(trigram_frequency)\n",
    "    \n",
    "    def calculate_perplexity(self,prev_word1, prev_word2, prev_word3, word):\n",
    "      prob_word=self.calculate_probability(prev_word1, prev_word2, prev_word3, word)\n",
    "      if(prob_word==0):\n",
    "        return 10**(7)\n",
    "      perplexity=np.log2(float((1/prob_word)))*(float(1/self.total_quadgrams))\n",
    "      return perplexity\n",
    "\n",
    "    def calculate_probability_smooth(self, prev_word1, prev_word2, prev_word3, word , k):\n",
    "        \n",
    "        quadgram_frequency = self.quadgram_frequencies.get( (prev_word1, prev_word2, prev_word3, word), 0)\n",
    "        trigram_frequency = self.trigram_frequencies.get( (prev_word1, prev_word2, prev_word3), 0)\n",
    "\n",
    "        return (float(quadgram_frequency) + k) / (float(trigram_frequency) + k*self.vocab_size)\n",
    "\n"
   ]
  },
  {
   "cell_type": "code",
   "execution_count": 13,
   "metadata": {},
   "outputs": [],
   "source": [
    "test_data=pd.read_csv('test_dataset.csv')\n",
    "test_comments='Comment'\n",
    "\n",
    "test_data[test_comments]=test_data[test_comments].apply(tokenize_sent)\n",
    "test_unigram_data=test_data[test_comments]\n",
    "test_sentences=[]\n",
    "for data in test_unigram_data:\n",
    "    for sent in data:\n",
    "        new_sent=sent.lower()\n",
    "        test_sentences.append(new_sent.translate(translator))\n",
    "\n",
    "test_unigram_sent=test_sentences\n",
    "test_unigram_words=[]\n",
    "for sent in test_unigram_sent:\n",
    "    words=word_tokenize(sent)\n",
    "    test_unigram_words.append(words)"
   ]
  },
  {
   "cell_type": "code",
   "execution_count": 21,
   "metadata": {},
   "outputs": [
    {
     "name": "stderr",
     "output_type": "stream",
     "text": [
      "/tmp/ipykernel_20023/3860985320.py:12: RuntimeWarning: divide by zero encountered in log2\n",
      "  unigram_perplex += np.log2(UNIGRAM_MODEL.calculate_probability(word))\n"
     ]
    }
   ],
   "source": [
    "UNIGRAM_MODEL=unigram_model(unigram_words)\n",
    "\n",
    "count=0\n",
    "total_perplex = 0\n",
    "for data in test_unigram_words:\n",
    "\n",
    "    count+=1\n",
    "    n = len(data)\n",
    "    if(n == 0): continue\n",
    "    unigram_perplex=0\n",
    "    for word in data:\n",
    "        unigram_perplex += np.log2(UNIGRAM_MODEL.calculate_probability(word))\n",
    "    \n",
    "    unigram_perplex *= (-1/n)\n",
    "    final_perplex = 2 ** unigram_perplex\n",
    "    total_perplex += final_perplex\n",
    "        \n",
    "        \n",
    "avg_perplex = total_perplex/count"
   ]
  },
  {
   "cell_type": "code",
   "execution_count": 22,
   "metadata": {},
   "outputs": [
    {
     "data": {
      "text/plain": [
       "inf"
      ]
     },
     "execution_count": 22,
     "metadata": {},
     "output_type": "execute_result"
    }
   ],
   "source": [
    "avg_perplex"
   ]
  },
  {
   "cell_type": "code",
   "execution_count": 23,
   "metadata": {},
   "outputs": [
    {
     "name": "stderr",
     "output_type": "stream",
     "text": [
      "/tmp/ipykernel_20023/2406518176.py:12: RuntimeWarning: divide by zero encountered in log2\n",
      "  bigram_perplex+=np.log2(BIGRAM_MODEL.calculate_probability(data[i],data[i+1]))\n"
     ]
    },
    {
     "data": {
      "text/plain": [
       "inf"
      ]
     },
     "execution_count": 23,
     "metadata": {},
     "output_type": "execute_result"
    }
   ],
   "source": [
    "BIGRAM_MODEL=bigram_model(bigram_words)\n",
    "total_perplex=0\n",
    "count=0\n",
    "\n",
    "for data in test_unigram_words:\n",
    "    count+= 1\n",
    "    bigram_perplex = 0\n",
    "    n = len(data)\n",
    "    if(n < 2): continue\n",
    "    \n",
    "    for i in range(len(data)-1):\n",
    "        bigram_perplex+=np.log2(BIGRAM_MODEL.calculate_probability(data[i],data[i+1]))\n",
    "        \n",
    "    bigram_perplex *= (-1/n)\n",
    "    final_perplex = 2 ** bigram_perplex\n",
    "    total_perplex += final_perplex\n",
    "        \n",
    "        \n",
    "Avg_perplex=total_perplex/count\n",
    "Avg_perplex"
   ]
  },
  {
   "cell_type": "code",
   "execution_count": 24,
   "metadata": {},
   "outputs": [
    {
     "name": "stderr",
     "output_type": "stream",
     "text": [
      "/tmp/ipykernel_20023/3152368260.py:12: RuntimeWarning: divide by zero encountered in log2\n",
      "  trigram_perplex+=np.log2(TRIGRAM_MODEL.calculate_probability(data[i],data[i+1], data[i+2]))\n"
     ]
    },
    {
     "data": {
      "text/plain": [
       "inf"
      ]
     },
     "execution_count": 24,
     "metadata": {},
     "output_type": "execute_result"
    }
   ],
   "source": [
    "TRIGRAM_MODEL=trigram_model(trigram_words)\n",
    "total_perplex=0\n",
    "count=0\n",
    "\n",
    "for data in test_unigram_words:\n",
    "    count+= 1\n",
    "    trigram_perplex = 0\n",
    "    n = len(data)\n",
    "    if(n < 3): continue\n",
    "    \n",
    "    for i in range(len(data)-2):\n",
    "        trigram_perplex+=np.log2(TRIGRAM_MODEL.calculate_probability(data[i],data[i+1], data[i+2]))\n",
    "        \n",
    "    trigram_perplex *= (-1/n)\n",
    "    final_perplex = 2 ** trigram_perplex\n",
    "    total_perplex += final_perplex\n",
    "        \n",
    "        \n",
    "Avg_perplex=total_perplex/count\n",
    "Avg_perplex"
   ]
  },
  {
   "cell_type": "code",
   "execution_count": 25,
   "metadata": {},
   "outputs": [
    {
     "name": "stderr",
     "output_type": "stream",
     "text": [
      "/tmp/ipykernel_20023/3051838552.py:12: RuntimeWarning: divide by zero encountered in log2\n",
      "  quadgram_perplex+=np.log2(QUADGRAM_MODEL.calculate_probability(data[i],data[i+1], data[i+2] , data[i+3]))\n"
     ]
    },
    {
     "data": {
      "text/plain": [
       "inf"
      ]
     },
     "execution_count": 25,
     "metadata": {},
     "output_type": "execute_result"
    }
   ],
   "source": [
    "QUADGRAM_MODEL=quadgram_model(quadgram_words)\n",
    "total_perplex=0\n",
    "count=0\n",
    "\n",
    "for data in test_unigram_words:\n",
    "    count+= 1\n",
    "    quadgram_perplex = 0\n",
    "    n = len(data)\n",
    "    if(n < 4): continue\n",
    "    \n",
    "    for i in range(len(data)-3):\n",
    "        quadgram_perplex+=np.log2(QUADGRAM_MODEL.calculate_probability(data[i],data[i+1], data[i+2] , data[i+3]))\n",
    "        \n",
    "    quadgram_perplex *= (-1/n)\n",
    "    final_perplex = 2 ** quadgram_perplex\n",
    "    total_perplex += final_perplex\n",
    "        \n",
    "        \n",
    "Avg_perplex=total_perplex/count\n",
    "Avg_perplex"
   ]
  },
  {
   "cell_type": "code",
   "execution_count": 31,
   "metadata": {},
   "outputs": [],
   "source": [
    "?np.linspace"
   ]
  },
  {
   "cell_type": "code",
   "execution_count": 63,
   "metadata": {},
   "outputs": [
    {
     "name": "stdout",
     "output_type": "stream",
     "text": [
      "19866.648109104008\n",
      "19866.60275617038\n",
      "19866.594433690287\n",
      "19866.62277164545\n",
      "19866.687404664663\n",
      "19866.78797195179\n",
      "19866.924117208877\n",
      "19867.09548857111\n",
      "19867.30173853142\n",
      "19867.542523878234\n"
     ]
    }
   ],
   "source": [
    "x = np.linspace(31 , 32 , 10 , endpoint = True)   \n",
    "y = []\n",
    "UNIGRAM_MODEL=unigram_model(unigram_words)\n",
    "\n",
    "for data in test_unigram_sent:\n",
    "    for word in data:\n",
    "        if word not in UNIGRAM_MODEL.vocabulary:\n",
    "            UNIGRAM_MODEL.vocabulary.add(word)\n",
    "            UNIGRAM_MODEL.vocab_size += 1\n",
    "            UNIGRAM_MODEL.unigram_frequencies[word] = 0\n",
    "\n",
    "for k in x:\n",
    "    \n",
    "    count=0\n",
    "    total_perplex = 0\n",
    "    for data in test_unigram_sent:\n",
    "\n",
    "        count+=1\n",
    "        n = len(data)\n",
    "        if(n == 0): continue\n",
    "        unigram_perplex=0\n",
    "        for word in data:\n",
    "            unigram_perplex += np.log2(UNIGRAM_MODEL.calculate_probability_smooth(word , k) )\n",
    "\n",
    "        unigram_perplex *= (-1/n)\n",
    "        final_perplex = 2 ** unigram_perplex\n",
    "        total_perplex += final_perplex\n",
    "\n",
    "    avg_perplex = total_perplex/count\n",
    "    print(avg_perplex)\n",
    "    y.append(avg_perplex)"
   ]
  },
  {
   "cell_type": "code",
   "execution_count": 64,
   "metadata": {},
   "outputs": [
    {
     "data": {
      "text/plain": [
       "31.22222222222222"
      ]
     },
     "execution_count": 64,
     "metadata": {},
     "output_type": "execute_result"
    }
   ],
   "source": [
    "x[np.argmin(y)]"
   ]
  },
  {
   "cell_type": "code",
   "execution_count": 67,
   "metadata": {},
   "outputs": [
    {
     "data": {
      "text/plain": [
       "Text(0, 0.5, 'Average Perplexity')"
      ]
     },
     "execution_count": 67,
     "metadata": {},
     "output_type": "execute_result"
    },
    {
     "data": {
      "image/png": "[encoded data removed]",
      "text/plain": [
       "<Figure size 640x480 with 1 Axes>"
      ]
     },
     "metadata": {},
     "output_type": "display_data"
    }
   ],
   "source": [
    "plt.plot(x , y , color = 'blue')\n",
    "plt.xlabel('Value of k')\n",
    "plt.ylabel('Average Perplexity')"
   ]
  },
  {
   "cell_type": "code",
   "execution_count": 78,
   "metadata": {},
   "outputs": [
    {
     "name": "stdout",
     "output_type": "stream",
     "text": [
      "1023.6532436678829\n",
      "1023.3876940997279\n",
      "1023.408443644035\n",
      "1023.6748642395859\n",
      "1024.153309552863\n",
      "1024.8156828962776\n",
      "1025.6383446729792\n",
      "1026.6012686735967\n",
      "1027.687383298317\n",
      "1028.8820519420929\n"
     ]
    }
   ],
   "source": [
    "x = np.linspace(0.01 , 0.015 , 10 , endpoint = True)   \n",
    "y = []\n",
    "BIGRAM_MODEL=bigram_model(bigram_words)\n",
    "\n",
    "for data in test_unigram_sent:\n",
    "    n = len(data)\n",
    "    for word in data:\n",
    "        if word not in BIGRAM_MODEL.vocabulary:\n",
    "            BIGRAM_MODEL.vocabulary.add(word)\n",
    "            BIGRAM_MODEL.vocab_size += 1\n",
    "    \n",
    "    for i in range(n-1):\n",
    "        \n",
    "        if(data[i], data[i+1]) not in BIGRAM_MODEL.bigram_frequencies:\n",
    "            BIGRAM_MODEL.bigram_frequencies[(data[i], data[i+1])] = 0\n",
    "            \n",
    "for k in x:\n",
    "    \n",
    "    total_perplex=0\n",
    "    count=0\n",
    "\n",
    "    for data in test_unigram_words:\n",
    "        count+= 1\n",
    "        bigram_perplex = 0\n",
    "        n = len(data)\n",
    "        if(n < 2): continue\n",
    "\n",
    "        for i in range(len(data)-1):\n",
    "            \n",
    "            bigram_perplex+=np.log2(BIGRAM_MODEL.calculate_probability_smooth(data[i],data[i+1] , k))\n",
    "\n",
    "        bigram_perplex *= (-1/n)\n",
    "        final_perplex = 2 ** bigram_perplex\n",
    "        total_perplex += final_perplex\n",
    "\n",
    "\n",
    "    Avg_perplex=total_perplex/count\n",
    "    y.append(Avg_perplex)\n",
    "    print(Avg_perplex)"
   ]
  },
  {
   "cell_type": "code",
   "execution_count": 79,
   "metadata": {},
   "outputs": [
    {
     "data": {
      "text/plain": [
       "0.010555555555555556"
      ]
     },
     "execution_count": 79,
     "metadata": {},
     "output_type": "execute_result"
    }
   ],
   "source": [
    "x[np.argmin(y)]"
   ]
  },
  {
   "cell_type": "code",
   "execution_count": 80,
   "metadata": {},
   "outputs": [
    {
     "data": {
      "text/plain": [
       "Text(0, 0.5, 'Average Perplexity')"
      ]
     },
     "execution_count": 80,
     "metadata": {},
     "output_type": "execute_result"
    },
    {
     "data": {
      "image/png": "[encoded data removed]",
      "text/plain": [
       "<Figure size 640x480 with 1 Axes>"
      ]
     },
     "metadata": {},
     "output_type": "display_data"
    }
   ],
   "source": [
    "plt.plot(x , y , color = 'blue')\n",
    "plt.xlabel('Value of k')\n",
    "plt.ylabel('Average Perplexity')"
   ]
  },
  {
   "cell_type": "code",
   "execution_count": null,
   "metadata": {},
   "outputs": [],
   "source": [
    "TRIGRAM_MODEL=trigram_model(trigram_words)\n",
    "\n",
    "y = []\n",
    "for data in test_unigram_sent:\n",
    "    n = len(data)\n",
    "    for word in data:\n",
    "        if word not in TRIGRAM_MODEL.vocabulary:\n",
    "            TRIGRAM_MODEL.vocabulary.add(word)\n",
    "            TRIGRAM_MODEL.vocab_size += 1\n",
    "    \n",
    "    for i in range(n-2):\n",
    "        if(data[i], data[i+1], data[i+2]) not in TRIGRAM_MODEL.trigram_frequencies:\n",
    "            TRIGRAM_MODEL.trigram_frequencies[(data[i], data[i+1] , data[i+2])] = 0"
   ]
  },
  {
   "cell_type": "code",
   "execution_count": 91,
   "metadata": {},
   "outputs": [
    {
     "name": "stdout",
     "output_type": "stream",
     "text": [
      "2272.24823663145\n",
      "2268.611825452615\n",
      "2266.834520339749\n",
      "2266.4514763245156\n",
      "2267.134247497119\n",
      "2268.6444439952847\n",
      "2270.805099776619\n",
      "2273.482310784789\n",
      "2276.573080691662\n",
      "2279.9970534792924\n"
     ]
    }
   ],
   "source": [
    "x = np.linspace(0.001 , 0.002 , 10 , endpoint = True)  \n",
    "y = []\n",
    "for k in x:\n",
    "    \n",
    "    total_perplex=0\n",
    "    count=0\n",
    "\n",
    "    for data in test_unigram_words:\n",
    "        count+= 1\n",
    "        trigram_perplex = 0\n",
    "        n = len(data)\n",
    "        if(n < 3): continue\n",
    "\n",
    "        for i in range(len(data)-2):\n",
    "            trigram_perplex+=np.log2(TRIGRAM_MODEL.calculate_probability_smooth(data[i],data[i+1], data[i+2] ,k))\n",
    "\n",
    "        trigram_perplex *= (-1/n)\n",
    "        final_perplex = 2 ** trigram_perplex\n",
    "        total_perplex += final_perplex\n",
    "\n",
    "\n",
    "    Avg_perplex=total_perplex/count\n",
    "    print(Avg_perplex)\n",
    "    y.append(Avg_perplex)"
   ]
  },
  {
   "cell_type": "code",
   "execution_count": 92,
   "metadata": {},
   "outputs": [
    {
     "data": {
      "text/plain": [
       "0.0013333333333333335"
      ]
     },
     "execution_count": 92,
     "metadata": {},
     "output_type": "execute_result"
    }
   ],
   "source": [
    "x[np.argmin(y)]"
   ]
  },
  {
   "cell_type": "code",
   "execution_count": 93,
   "metadata": {},
   "outputs": [
    {
     "data": {
      "text/plain": [
       "Text(0, 0.5, 'Average Perplexity')"
      ]
     },
     "execution_count": 93,
     "metadata": {},
     "output_type": "execute_result"
    },
    {
     "data": {
      "image/png": "[encoded data removed]",
      "text/plain": [
       "<Figure size 640x480 with 1 Axes>"
      ]
     },
     "metadata": {},
     "output_type": "display_data"
    }
   ],
   "source": [
    "plt.plot(x , y , color = 'blue')\n",
    "plt.xlabel('Value of k')\n",
    "plt.ylabel('Average Perplexity')"
   ]
  },
  {
   "cell_type": "code",
   "execution_count": 101,
   "metadata": {},
   "outputs": [],
   "source": [
    "QUADGRAM_MODEL= quadgram_model(quadgram_words)\n",
    "\n",
    "y = []\n",
    "for data in test_unigram_sent:\n",
    "    n = len(data)\n",
    "    for word in data:\n",
    "        if word not in QUADGRAM_MODEL.vocabulary:\n",
    "            QUADGRAM_MODEL.vocabulary.add(word)\n",
    "            QUADGRAM_MODEL.vocab_size += 1\n",
    "    \n",
    "    for i in range(n-3):\n",
    "        if(data[i], data[i+1], data[i+2] , data[i+3]) not in QUADGRAM_MODEL.quadgram_frequencies:\n",
    "            QUADGRAM_MODEL.quadgram_frequencies[(data[i], data[i+1] , data[i+2] , data[i+3])] = 0"
   ]
  },
  {
   "cell_type": "code",
   "execution_count": 102,
   "metadata": {},
   "outputs": [
    {
     "name": "stdout",
     "output_type": "stream",
     "text": [
      "4037.3315272148225\n",
      "4046.4841468247864\n",
      "4055.719818620009\n",
      "4064.9267558153324\n",
      "4074.037048127345\n",
      "4083.0096542077395\n",
      "4091.8204083723826\n",
      "4100.4559443946255\n",
      "4108.909895379689\n",
      "4117.180461205602\n"
     ]
    }
   ],
   "source": [
    "x = np.linspace(0.001 , 0.002 , 10 , endpoint = True)  \n",
    "y = []\n",
    "for k in x:\n",
    "    \n",
    "    total_perplex=0\n",
    "    count=0\n",
    "\n",
    "    for data in test_unigram_words:\n",
    "        count+= 1\n",
    "        quadgram_perplex = 0\n",
    "        n = len(data)\n",
    "        if(n < 4): continue\n",
    "\n",
    "        for i in range(len(data)-3):\n",
    "            quadgram_perplex+=np.log2(QUADGRAM_MODEL.calculate_probability_smooth(data[i],data[i+1], data[i+2],data[i+3] ,k))\n",
    "\n",
    "        quadgram_perplex *= (-1/n)\n",
    "        final_perplex = 2 ** quadgram_perplex\n",
    "        total_perplex += final_perplex\n",
    "\n",
    "\n",
    "    Avg_perplex=total_perplex/count\n",
    "    print(Avg_perplex)\n",
    "    y.append(Avg_perplex)"
   ]
  },
  {
   "cell_type": "code",
   "execution_count": 17,
   "metadata": {},
   "outputs": [],
   "source": [
    "class N_Gram(unigram_model):\n",
    "    def __init__(self,sentences,n):\n",
    "        if(n==1):\n",
    "            self.model=unigram_model(sentences)\n",
    "        if(n==2):\n",
    "            self.model=bigram_model(sentences)\n",
    "        if(n==3):\n",
    "            self.model=trigram_model(sentences)\n",
    "        if(n==4):\n",
    "            self.model=quadgram_model(sentences)"
   ]
  },
  {
   "cell_type": "code",
   "execution_count": 18,
   "metadata": {},
   "outputs": [],
   "source": [
    "test_uni_gram_model=N_Gram(unigram_words,1)\n",
    "test_bi_gram_model=N_Gram(bigram_words,2)\n",
    "test_tri_gram_model=N_Gram(trigram_words,3)\n",
    "test_quad_gram_model=N_Gram(quadgram_words,4)"
   ]
  },
  {
   "cell_type": "code",
   "execution_count": 19,
   "metadata": {},
   "outputs": [
    {
     "name": "stdout",
     "output_type": "stream",
     "text": [
      "0.021748511511320123\n",
      "0.0656356214730611\n",
      "0.03412073490813648\n",
      "0.46153846153846156\n"
     ]
    }
   ],
   "source": [
    "print(test_uni_gram_model.model.calculate_probability('the'))\n",
    "print(test_bi_gram_model.model.calculate_probability('is','the'))\n",
    "print(test_tri_gram_model.model.calculate_probability('seems','to','me'))\n",
    "print(test_quad_gram_model.model.calculate_probability('seems','to','me','that'))"
   ]
  },
  {
   "cell_type": "code",
   "execution_count": 36,
   "metadata": {},
   "outputs": [],
   "source": [
    "test_quad_gram_model= N_Gram(quadgram_words,4)"
   ]
  },
  {
   "cell_type": "code",
   "execution_count": null,
   "metadata": {},
   "outputs": [],
   "source": []
  }
 ],
 "metadata": {
  "kernelspec": {
   "display_name": "Python 3 (ipykernel)",
   "language": "python",
   "name": "python3"
  },
  "language_info": {
   "codemirror_mode": {
    "name": "ipython",
    "version": 3
   },
   "file_extension": ".py",
   "mimetype": "text/x-python",
   "name": "python",
   "nbconvert_exporter": "python",
   "pygments_lexer": "ipython3",
   "version": "3.10.12"
  }
 },
 "nbformat": 4,
 "nbformat_minor": 2
}
